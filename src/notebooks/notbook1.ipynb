{
 "cells": [
  {
   "cell_type": "code",
   "execution_count": null,
   "id": "95ade299",
   "metadata": {},
   "outputs": [],
   "source": [
    "print(\"Farhan MaYo\")"
   ]
  },
  {
   "cell_type": "code",
   "execution_count": null,
   "id": "c34ac7ce",
   "metadata": {},
   "outputs": [],
   "source": [
    "print(\"This Is Demo 1 File For Testing\")"
   ]
  }
 ],
 "metadata": {
  "language_info": {
   "name": "python"
  }
 },
 "nbformat": 4,
 "nbformat_minor": 5
}
